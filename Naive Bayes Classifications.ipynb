{
 "cells": [
  {
   "cell_type": "code",
   "execution_count": 1,
   "id": "ca593ecf",
   "metadata": {
    "scrolled": true
   },
   "outputs": [],
   "source": [
    "import numpy as np\n",
    "import pandas as pd\n",
    "import matplotlib.pyplot as plt\n",
    "\n",
    "%matplotlib inline # ensures our plot appears in line"
   ]
  },
  {
   "cell_type": "code",
   "execution_count": 7,
   "id": "f8c6cb24",
   "metadata": {
    "scrolled": true
   },
   "outputs": [
    {
     "name": "stdout",
     "output_type": "stream",
     "text": [
      "    Outlook  Temp Humidity  Windy Play Golf\n",
      "0     Rainy   Hot     High  False        No\n",
      "1     Rainy   Hot     High   True        No\n",
      "2  Overcast   Hot     High  False       Yes\n",
      "3     Sunny  Mild     High  False       Yes\n",
      "4     Sunny  Cool   Normal  False       Yes\n",
      "\n",
      "number of row and columns : (14, 5)\n"
     ]
    }
   ],
   "source": [
    "# Read in and explore the data\n",
    "GolfDset = pd.read_csv('golf-dataset.csv')\n",
    "\n",
    "print(GolfDset.head())\n",
    "print('')\n",
    "print(\"number of row and columns : {}\".format(GolfDset.shape))"
   ]
  },
  {
   "cell_type": "code",
   "execution_count": 8,
   "id": "04d99303",
   "metadata": {},
   "outputs": [
    {
     "name": "stdout",
     "output_type": "stream",
     "text": [
      "['No' 'Yes']\n",
      "\n",
      "Yes    9\n",
      "No     5\n",
      "Name: Play Golf, dtype: int64\n"
     ]
    }
   ],
   "source": [
    "print(GolfDset['Play Golf'].unique()) # prints the unique values of the column ' Play Golf'\n",
    "print(\"\")\n",
    "print(GolfDset['Play Golf'].value_counts())"
   ]
  },
  {
   "cell_type": "code",
   "execution_count": 33,
   "id": "7181cd98",
   "metadata": {},
   "outputs": [
    {
     "data": {
      "text/html": [
       "<div>\n",
       "<style scoped>\n",
       "    .dataframe tbody tr th:only-of-type {\n",
       "        vertical-align: middle;\n",
       "    }\n",
       "\n",
       "    .dataframe tbody tr th {\n",
       "        vertical-align: top;\n",
       "    }\n",
       "\n",
       "    .dataframe thead th {\n",
       "        text-align: right;\n",
       "    }\n",
       "</style>\n",
       "<table border=\"1\" class=\"dataframe\">\n",
       "  <thead>\n",
       "    <tr style=\"text-align: right;\">\n",
       "      <th></th>\n",
       "      <th>Outlook</th>\n",
       "      <th>Temp</th>\n",
       "      <th>Humidity</th>\n",
       "      <th>Windy</th>\n",
       "      <th>Play Golf</th>\n",
       "    </tr>\n",
       "  </thead>\n",
       "  <tbody>\n",
       "    <tr>\n",
       "      <th>0</th>\n",
       "      <td>1</td>\n",
       "      <td>1</td>\n",
       "      <td>0</td>\n",
       "      <td>0</td>\n",
       "      <td>0</td>\n",
       "    </tr>\n",
       "    <tr>\n",
       "      <th>1</th>\n",
       "      <td>1</td>\n",
       "      <td>1</td>\n",
       "      <td>0</td>\n",
       "      <td>1</td>\n",
       "      <td>0</td>\n",
       "    </tr>\n",
       "    <tr>\n",
       "      <th>2</th>\n",
       "      <td>0</td>\n",
       "      <td>1</td>\n",
       "      <td>0</td>\n",
       "      <td>0</td>\n",
       "      <td>1</td>\n",
       "    </tr>\n",
       "    <tr>\n",
       "      <th>3</th>\n",
       "      <td>2</td>\n",
       "      <td>2</td>\n",
       "      <td>0</td>\n",
       "      <td>0</td>\n",
       "      <td>1</td>\n",
       "    </tr>\n",
       "    <tr>\n",
       "      <th>4</th>\n",
       "      <td>2</td>\n",
       "      <td>0</td>\n",
       "      <td>1</td>\n",
       "      <td>0</td>\n",
       "      <td>1</td>\n",
       "    </tr>\n",
       "  </tbody>\n",
       "</table>\n",
       "</div>"
      ],
      "text/plain": [
       "   Outlook  Temp  Humidity  Windy  Play Golf\n",
       "0        1     1         0      0          0\n",
       "1        1     1         0      1          0\n",
       "2        0     1         0      0          1\n",
       "3        2     2         0      0          1\n",
       "4        2     0         1      0          1"
      ]
     },
     "execution_count": 33,
     "metadata": {},
     "output_type": "execute_result"
    }
   ],
   "source": [
    "# Encoding the data\n",
    "from sklearn.preprocessing import LabelEncoder\n",
    "\n",
    "Col = GolfDset.columns[:] # stores all the column names\n",
    "\n",
    "data1 = GolfDset[Col]\n",
    "data2 = data1.copy() # deep copys the dataset\n",
    "\n",
    "for i in Col:\n",
    "    LE = LabelEncoder() # creating an instance of the encoder class\n",
    "    LE.fit(GolfDset[i])\n",
    "    data2[i] = LE.transform(GolfDset[i])\n",
    "\n",
    "data2.head(n=5) "
   ]
  },
  {
   "cell_type": "code",
   "execution_count": 28,
   "id": "a88414b8",
   "metadata": {},
   "outputs": [],
   "source": [
    "# split data into features X, and label,y.\n",
    "\n",
    "X = data2.iloc[:, :-1] # data2.iloc[:,:-1].values gets only values in a np array\n",
    "\n",
    "y = data2['Play Golf']\n"
   ]
  },
  {
   "cell_type": "code",
   "execution_count": 30,
   "id": "289571ca",
   "metadata": {},
   "outputs": [
    {
     "data": {
      "text/plain": [
       "MultinomialNB(alpha=1e-08,\n",
       "              class_prior=[0.6428571428571429, 0.35714285714285715])"
      ]
     },
     "execution_count": 30,
     "metadata": {},
     "output_type": "execute_result"
    }
   ],
   "source": [
    "# Import the Multinomial class from the naive bayes module and traing the model\n",
    "from sklearn.naive_bayes import MultinomialNB\n",
    "\n",
    "mNB = MultinomialNB( alpha = 1e-8, class_prior = [9/14, 5/14]) # an instance of the imported class\n",
    "\n",
    "# We train the model by calling the .fit() function on the mNB object\n",
    "Model = mNB.fit(X, y)\n",
    "\n",
    "Model"
   ]
  },
  {
   "cell_type": "code",
   "execution_count": 32,
   "id": "13813c08",
   "metadata": {},
   "outputs": [
    {
     "name": "stdout",
     "output_type": "stream",
     "text": [
      "0.7857142857142857\n",
      "\n",
      "              precision    recall  f1-score   support\n",
      "\n",
      "           0       0.62      1.00      0.77         5\n",
      "           1       1.00      0.67      0.80         9\n",
      "\n",
      "    accuracy                           0.79        14\n",
      "   macro avg       0.81      0.83      0.78        14\n",
      "weighted avg       0.87      0.79      0.79        14\n",
      "\n"
     ]
    }
   ],
   "source": [
    "# predicting the labels for different inputs and checking the accuracy of predictions, using 2 accuracy metrics\n",
    "from sklearn import metrics\n",
    "\n",
    "print(metrics.accuracy_score(y, Model.predict(X)))\n",
    "print('')\n",
    "print(metrics.classification_report(y, Model.predict(X)))"
   ]
  },
  {
   "cell_type": "code",
   "execution_count": 34,
   "id": "42330bb7",
   "metadata": {},
   "outputs": [
    {
     "name": "stdout",
     "output_type": "stream",
     "text": [
      "[0]\n"
     ]
    }
   ],
   "source": [
    "# new prediction using 'Sunny', 'Mild', 'High', 'True' : 2, 2, 0, 1\n",
    "\n",
    "print(Model.predict([[2,2,0,1]])) # 1 to play golf, and 0 to not play golf"
   ]
  },
  {
   "cell_type": "code",
   "execution_count": 35,
   "id": "5e03be80",
   "metadata": {},
   "outputs": [
    {
     "name": "stdout",
     "output_type": "stream",
     "text": [
      "[[0.83371525 0.16628475]]\n"
     ]
    }
   ],
   "source": [
    "print(Model.predict_proba([[2,2,0,1]]))"
   ]
  },
  {
   "cell_type": "code",
   "execution_count": 44,
   "id": "e0e2fdc4",
   "metadata": {},
   "outputs": [],
   "source": [
    "# using the gaussian classifyer instead, and spliting our data into training and test sets\n",
    "\n",
    "from sklearn.model_selection import train_test_split\n",
    "\n",
    "X = X.iloc[:, [0,1]]"
   ]
  },
  {
   "cell_type": "code",
   "execution_count": 45,
   "id": "be047952",
   "metadata": {},
   "outputs": [],
   "source": [
    "X_train, X_test, y_train, y_test = train_test_split(X, y, test_size = 0.25, random_state = 0)"
   ]
  },
  {
   "cell_type": "code",
   "execution_count": 46,
   "id": "cd9846ee",
   "metadata": {},
   "outputs": [
    {
     "name": "stdout",
     "output_type": "stream",
     "text": [
      "[[-1.60356745 -0.60302269]\n",
      " [ 1.06904497  0.90453403]\n",
      " [ 1.06904497  0.90453403]]\n"
     ]
    }
   ],
   "source": [
    "# Feature Scaling - puting it between a value of -1 and 1\n",
    "from sklearn.preprocessing import StandardScaler\n",
    "\n",
    "sc = StandardScaler()\n",
    "X_train = sc.fit_transform(X_train)\n",
    "X_test = sc.transform(X_test)\n",
    "\n",
    "print(X_train[:3])"
   ]
  },
  {
   "cell_type": "code",
   "execution_count": 47,
   "id": "85a7d26f",
   "metadata": {},
   "outputs": [
    {
     "data": {
      "text/plain": [
       "GaussianNB()"
      ]
     },
     "execution_count": 47,
     "metadata": {},
     "output_type": "execute_result"
    }
   ],
   "source": [
    "# fitting Naive bayes to the Training set\n",
    "\n",
    "from sklearn.naive_bayes import GaussianNB\n",
    "\n",
    "classifier = GaussianNB()\n",
    "classifier.fit(X_train, y_train) # fit the training data and training solution"
   ]
  },
  {
   "cell_type": "code",
   "execution_count": 48,
   "id": "437ffb65",
   "metadata": {},
   "outputs": [
    {
     "name": "stdout",
     "output_type": "stream",
     "text": [
      "[0 0 0 1]\n"
     ]
    }
   ],
   "source": [
    "# Predicting the Test set results\n",
    "y_pred = classifier.predict(X_test)\n",
    "\n",
    "print(y_pred)"
   ]
  },
  {
   "cell_type": "code",
   "execution_count": 49,
   "id": "7866ae61",
   "metadata": {},
   "outputs": [
    {
     "data": {
      "text/plain": [
       "array([[0, 0],\n",
       "       [3, 1]], dtype=int64)"
      ]
     },
     "execution_count": 49,
     "metadata": {},
     "output_type": "execute_result"
    }
   ],
   "source": [
    "# making the confusion Matrix\n",
    "\n",
    "from sklearn.metrics import confusion_matrix\n",
    "\n",
    "cm = confusion_matrix(y_test, y_pred)\n",
    "\n",
    "cm"
   ]
  },
  {
   "cell_type": "markdown",
   "id": "b8f163cf",
   "metadata": {},
   "source": [
    "# Predicted 0 'no play golf' , guessed 0 wrong. And 3 'play golf', guessed 1 wrong."
   ]
  },
  {
   "cell_type": "code",
   "execution_count": 64,
   "id": "c835d76c",
   "metadata": {},
   "outputs": [
    {
     "name": "stderr",
     "output_type": "stream",
     "text": [
      "*c* argument looks like a single numeric RGB or RGBA sequence, which should be avoided as value-mapping will have precedence in case its length matches with *x* & *y*.  Please use the *color* keyword-argument or provide a 2-D array with a single row if you intend to specify the same RGB or RGBA value for all points.\n",
      "*c* argument looks like a single numeric RGB or RGBA sequence, which should be avoided as value-mapping will have precedence in case its length matches with *x* & *y*.  Please use the *color* keyword-argument or provide a 2-D array with a single row if you intend to specify the same RGB or RGBA value for all points.\n"
     ]
    },
    {
     "data": {
      "image/png": "[encoded data removed]",
      "text/plain": [
       "<Figure size 432x288 with 1 Axes>"
      ]
     },
     "metadata": {
      "needs_background": "light"
     },
     "output_type": "display_data"
    }
   ],
   "source": [
    "# Visualising the Training set results\n",
    "from matplotlib.colors import ListedColormap\n",
    "X_set, y_set = X_train, y_train\n",
    "\n",
    "X1, X2 = np.meshgrid(np.arange(start = X_set[:, 0].min() - 1 , stop = X_set[:, 0].max() + 1, step = 0.01),\n",
    "np.arange(start = X_set[:, 1].min() - 1 , stop = X_set[:, 1].max() + 1, step = 0.01))\n",
    "plt.contourf(X1, X2, classifier.predict(np.array([X1.ravel(), X2.ravel()]).T).reshape(X1.shape),\n",
    "                                       alpha = 0.75, cmap = ListedColormap(('red', 'green')))\n",
    "\n",
    "plt.xlim(X1.min(), X1.max())\n",
    "plt.ylim(X2.min(), X2.max())\n",
    "\n",
    "for i, j in enumerate(np.unique(y_set)):\n",
    "    plt.scatter(X_set[y_set == j, 0], X_set[y_set == j, 1],\n",
    "               c = ListedColormap(('red', 'green'))(i), label = j)\n",
    "    \n",
    "plt.title(\"Gaussian Naive bayes(Training set)\")\n",
    "plt.xlabel('Outlook')\n",
    "plt.ylabel('Temperature')\n",
    "plt.legend()\n",
    "plt.show()"
   ]
  },
  {
   "cell_type": "code",
   "execution_count": 65,
   "id": "4abeadba",
   "metadata": {},
   "outputs": [
    {
     "data": {
      "image/png": "[encoded data removed]",
      "text/plain": [
       "<Figure size 432x288 with 1 Axes>"
      ]
     },
     "metadata": {
      "needs_background": "light"
     },
     "output_type": "display_data"
    }
   ],
   "source": [
    "# Visualising the Test set results\n",
    "from matplotlib.colors import ListedColormap\n",
    "X_set, y_set = X_test, y_test\n",
    "\n",
    "X1, X2 = np.meshgrid(np.arange(start = X_set[:, 0].min() - 1 , stop = X_set[:, 0].max() + 1, step = 0.01),\n",
    "np.arange(start = X_set[:, 1].min() - 1 , stop = X_set[:, 1].max() + 1, step = 0.01))\n",
    "plt.contourf(X1, X2, classifier.predict(np.array([X1.ravel(), X2.ravel()]).T).reshape(X1.shape),\n",
    "                                       alpha = 0.75, cmap = ListedColormap(('cyan', 'orange')))\n",
    "\n",
    "plt.xlim(X1.min(), X1.max())\n",
    "plt.ylim(X2.min(), X2.max())\n",
    "\n",
    "for i, j in enumerate(np.unique(y_set)):\n",
    "    plt.scatter(X_set[y_set == j, 0], X_set[y_set == j, 1],\n",
    "               c = ListedColormap(('cyan', 'orange'))(i), label = j)\n",
    "    \n",
    "plt.title(\"Gaussian Naive bayes(Test set)\")\n",
    "plt.xlabel(\"Outlook\")\n",
    "plt.ylabel(\"Temperature\")\n",
    "plt.legend()\n",
    "plt.show()"
   ]
  },
  {
   "cell_type": "code",
   "execution_count": 66,
   "id": "269773d8",
   "metadata": {},
   "outputs": [
    {
     "name": "stdout",
     "output_type": "stream",
     "text": [
      "              precision    recall  f1-score   support\n",
      "\n",
      "           0       0.00      0.00      0.00         0\n",
      "           1       1.00      0.25      0.40         4\n",
      "\n",
      "    accuracy                           0.25         4\n",
      "   macro avg       0.50      0.12      0.20         4\n",
      "weighted avg       1.00      0.25      0.40         4\n",
      "\n",
      "accuracy score = 0.25\n"
     ]
    },
    {
     "name": "stderr",
     "output_type": "stream",
     "text": [
      "C:\\Users\\Ndidi\\anaconda3\\lib\\site-packages\\sklearn\\metrics\\_classification.py:1245: UndefinedMetricWarning: Recall and F-score are ill-defined and being set to 0.0 in labels with no true samples. Use `zero_division` parameter to control this behavior.\n",
      "  _warn_prf(average, modifier, msg_start, len(result))\n",
      "C:\\Users\\Ndidi\\anaconda3\\lib\\site-packages\\sklearn\\metrics\\_classification.py:1245: UndefinedMetricWarning: Recall and F-score are ill-defined and being set to 0.0 in labels with no true samples. Use `zero_division` parameter to control this behavior.\n",
      "  _warn_prf(average, modifier, msg_start, len(result))\n",
      "C:\\Users\\Ndidi\\anaconda3\\lib\\site-packages\\sklearn\\metrics\\_classification.py:1245: UndefinedMetricWarning: Recall and F-score are ill-defined and being set to 0.0 in labels with no true samples. Use `zero_division` parameter to control this behavior.\n",
      "  _warn_prf(average, modifier, msg_start, len(result))\n"
     ]
    }
   ],
   "source": [
    "# Calculating the accuracy \n",
    "\n",
    "print( metrics.classification_report(y_test, y_pred))\n",
    "\n",
    "print('accuracy score =', metrics.accuracy_score(y_test, y_pred))"
   ]
  },
  {
   "cell_type": "code",
   "execution_count": null,
   "id": "d2b5973c",
   "metadata": {},
   "outputs": [],
   "source": []
  }
 ],
 "metadata": {
  "kernelspec": {
   "display_name": "Python 3",
   "language": "python",
   "name": "python3"
  },
  "language_info": {
   "codemirror_mode": {
    "name": "ipython",
    "version": 3
   },
   "file_extension": ".py",
   "mimetype": "text/x-python",
   "name": "python",
   "nbconvert_exporter": "python",
   "pygments_lexer": "ipython3",
   "version": "3.8.8"
  }
 },
 "nbformat": 4,
 "nbformat_minor": 5
}
